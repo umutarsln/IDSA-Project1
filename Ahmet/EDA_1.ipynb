{
 "cells": [
  {
   "cell_type": "code",
   "execution_count": 1,
   "metadata": {},
   "outputs": [],
   "source": [
    "import pandas as pd\n",
    "import numpy as np\n",
    "import seaborn as sns\n",
    "import matplotlib.pyplot as plt\n",
    "from datetime import time"
   ]
  },
  {
   "cell_type": "code",
   "execution_count": 2,
   "metadata": {},
   "outputs": [],
   "source": [
    "# Pandas'a özel parametreler\n",
    "pd.set_option('display.max_columns', None)\n",
    "pd.set_option('display.max_rows', None)\n",
    "pd.set_option('display.precision', 3)\n",
    "pd.set_option('display.width', 500)\n",
    "pd.set_option(\"display.float_format\", lambda x: '%.2f' % x)\n"
   ]
  },
  {
   "cell_type": "code",
   "execution_count": 3,
   "metadata": {},
   "outputs": [
    {
     "name": "stderr",
     "output_type": "stream",
     "text": [
      "C:\\Users\\ahmet\\AppData\\Local\\Temp\\ipykernel_6908\\2522875168.py:1: DtypeWarning: Columns (4) have mixed types. Specify dtype option on import or set low_memory=False.\n",
      "  df = pd.read_csv('MTA_Subway.csv')\n"
     ]
    }
   ],
   "source": [
    "df = pd.read_csv('MTA_Subway.csv')"
   ]
  },
  {
   "cell_type": "code",
   "execution_count": 4,
   "metadata": {},
   "outputs": [
    {
     "data": {
      "text/plain": [
       "transit_timestamp      object\n",
       "station_complex_id     object\n",
       "station_complex        object\n",
       "borough                object\n",
       "routes                 object\n",
       "payment_method         object\n",
       "ridership               int64\n",
       "transfers               int64\n",
       "latitude              float64\n",
       "longitude             float64\n",
       "Georeference           object\n",
       "itsuid                 object\n",
       "dtype: object"
      ]
     },
     "execution_count": 4,
     "metadata": {},
     "output_type": "execute_result"
    }
   ],
   "source": [
    "df.dtypes"
   ]
  },
  {
   "cell_type": "code",
   "execution_count": 5,
   "metadata": {},
   "outputs": [
    {
     "data": {
      "text/plain": [
       "Index(['transit_timestamp', 'station_complex_id', 'station_complex', 'borough', 'routes', 'payment_method', 'ridership', 'transfers', 'latitude', 'longitude', 'Georeference', 'itsuid'], dtype='object')"
      ]
     },
     "execution_count": 5,
     "metadata": {},
     "output_type": "execute_result"
    }
   ],
   "source": [
    "df.columns"
   ]
  },
  {
   "cell_type": "code",
   "execution_count": 6,
   "metadata": {},
   "outputs": [
    {
     "data": {
      "text/html": [
       "<div>\n",
       "<style scoped>\n",
       "    .dataframe tbody tr th:only-of-type {\n",
       "        vertical-align: middle;\n",
       "    }\n",
       "\n",
       "    .dataframe tbody tr th {\n",
       "        vertical-align: top;\n",
       "    }\n",
       "\n",
       "    .dataframe thead th {\n",
       "        text-align: right;\n",
       "    }\n",
       "</style>\n",
       "<table border=\"1\" class=\"dataframe\">\n",
       "  <thead>\n",
       "    <tr style=\"text-align: right;\">\n",
       "      <th></th>\n",
       "      <th>transit_timestamp</th>\n",
       "      <th>station_complex_id</th>\n",
       "      <th>station_complex</th>\n",
       "      <th>borough</th>\n",
       "      <th>routes</th>\n",
       "      <th>payment_method</th>\n",
       "      <th>ridership</th>\n",
       "      <th>transfers</th>\n",
       "      <th>latitude</th>\n",
       "      <th>longitude</th>\n",
       "      <th>Georeference</th>\n",
       "      <th>itsuid</th>\n",
       "    </tr>\n",
       "  </thead>\n",
       "  <tbody>\n",
       "    <tr>\n",
       "      <th>0</th>\n",
       "      <td>03/27/2022 06:00:00 AM</td>\n",
       "      <td>H007</td>\n",
       "      <td>1 Av (L)</td>\n",
       "      <td>M</td>\n",
       "      <td>L</td>\n",
       "      <td>omny</td>\n",
       "      <td>12</td>\n",
       "      <td>0</td>\n",
       "      <td>40.731</td>\n",
       "      <td>-73.982</td>\n",
       "      <td>POINT (-73.98162841796875 40.730953216552734)</td>\n",
       "      <td>2022-03-27T06:00:00H0071 Av (L)MLomny</td>\n",
       "    </tr>\n",
       "    <tr>\n",
       "      <th>1</th>\n",
       "      <td>06/05/2022 02:00:00 AM</td>\n",
       "      <td>H007</td>\n",
       "      <td>1 Av (L)</td>\n",
       "      <td>M</td>\n",
       "      <td>L</td>\n",
       "      <td>omny</td>\n",
       "      <td>93</td>\n",
       "      <td>0</td>\n",
       "      <td>40.731</td>\n",
       "      <td>-73.982</td>\n",
       "      <td>POINT (-73.98162841796875 40.730953216552734)</td>\n",
       "      <td>2022-06-05T02:00:00H0071 Av (L)MLomny</td>\n",
       "    </tr>\n",
       "    <tr>\n",
       "      <th>2</th>\n",
       "      <td>06/13/2023 03:00:00 AM</td>\n",
       "      <td>H007</td>\n",
       "      <td>1 Av (L)</td>\n",
       "      <td>M</td>\n",
       "      <td>L</td>\n",
       "      <td>omny</td>\n",
       "      <td>3</td>\n",
       "      <td>0</td>\n",
       "      <td>40.731</td>\n",
       "      <td>-73.982</td>\n",
       "      <td>POINT (-73.98162841796875 40.730953216552734)</td>\n",
       "      <td>2023-06-13T03:00:00H0071 Av (L)MLomny</td>\n",
       "    </tr>\n",
       "    <tr>\n",
       "      <th>3</th>\n",
       "      <td>07/28/2023 05:00:00 AM</td>\n",
       "      <td>H007</td>\n",
       "      <td>1 Av (L)</td>\n",
       "      <td>M</td>\n",
       "      <td>L</td>\n",
       "      <td>omny</td>\n",
       "      <td>31</td>\n",
       "      <td>0</td>\n",
       "      <td>40.731</td>\n",
       "      <td>-73.982</td>\n",
       "      <td>POINT (-73.98162841796875 40.730953216552734)</td>\n",
       "      <td>2023-07-28T05:00:00H0071 Av (L)MLomny</td>\n",
       "    </tr>\n",
       "    <tr>\n",
       "      <th>4</th>\n",
       "      <td>08/08/2023 03:00:00 AM</td>\n",
       "      <td>H007</td>\n",
       "      <td>1 Av (L)</td>\n",
       "      <td>M</td>\n",
       "      <td>L</td>\n",
       "      <td>omny</td>\n",
       "      <td>3</td>\n",
       "      <td>0</td>\n",
       "      <td>40.731</td>\n",
       "      <td>-73.982</td>\n",
       "      <td>POINT (-73.98162841796875 40.730953216552734)</td>\n",
       "      <td>2023-08-08T03:00:00H0071 Av (L)MLomny</td>\n",
       "    </tr>\n",
       "  </tbody>\n",
       "</table>\n",
       "</div>"
      ],
      "text/plain": [
       "        transit_timestamp station_complex_id station_complex borough routes payment_method  ridership  transfers  latitude  longitude                                   Georeference                                 itsuid\n",
       "0  03/27/2022 06:00:00 AM               H007        1 Av (L)       M      L           omny         12          0    40.731    -73.982  POINT (-73.98162841796875 40.730953216552734)  2022-03-27T06:00:00H0071 Av (L)MLomny\n",
       "1  06/05/2022 02:00:00 AM               H007        1 Av (L)       M      L           omny         93          0    40.731    -73.982  POINT (-73.98162841796875 40.730953216552734)  2022-06-05T02:00:00H0071 Av (L)MLomny\n",
       "2  06/13/2023 03:00:00 AM               H007        1 Av (L)       M      L           omny          3          0    40.731    -73.982  POINT (-73.98162841796875 40.730953216552734)  2023-06-13T03:00:00H0071 Av (L)MLomny\n",
       "3  07/28/2023 05:00:00 AM               H007        1 Av (L)       M      L           omny         31          0    40.731    -73.982  POINT (-73.98162841796875 40.730953216552734)  2023-07-28T05:00:00H0071 Av (L)MLomny\n",
       "4  08/08/2023 03:00:00 AM               H007        1 Av (L)       M      L           omny          3          0    40.731    -73.982  POINT (-73.98162841796875 40.730953216552734)  2023-08-08T03:00:00H0071 Av (L)MLomny"
      ]
     },
     "execution_count": 6,
     "metadata": {},
     "output_type": "execute_result"
    }
   ],
   "source": [
    "df.head()"
   ]
  },
  {
   "cell_type": "code",
   "execution_count": 7,
   "metadata": {},
   "outputs": [],
   "source": [
    "df = df.drop(columns=['station_complex', 'routes', 'payment_method', 'transfers', 'Georeference','itsuid'])"
   ]
  },
  {
   "cell_type": "code",
   "execution_count": 9,
   "metadata": {},
   "outputs": [],
   "source": [
    "df = df.apply(lambda x: x.str.strip() if x.dtype == \"object\" else x)"
   ]
  },
  {
   "cell_type": "code",
   "execution_count": 10,
   "metadata": {},
   "outputs": [],
   "source": [
    "df['borough'].replace({'M': 'Manhattan', 'Q': 'Queens', 'BX': 'Bronx', 'BK': 'Brooklyn', 'SI': 'Staten Island'}, inplace=True)"
   ]
  },
  {
   "cell_type": "code",
   "execution_count": 11,
   "metadata": {},
   "outputs": [],
   "source": [
    "# transit_timestamp sütununu datetime türüne çeviriyoruz\n",
    "df['transit_timestamp'] = pd.to_datetime(df['transit_timestamp'])\n",
    "\n",
    "# Tarih ve saat sütunlarını ayrı ayrı oluşturuyoruz\n",
    "df['date'] = df['transit_timestamp'].dt.date\n",
    "df['hour'] = df['transit_timestamp'].dt.time"
   ]
  },
  {
   "cell_type": "code",
   "execution_count": 12,
   "metadata": {},
   "outputs": [],
   "source": [
    "df['date'] = pd.to_datetime(df['date'])\n",
    "\n",
    "df['day_of_week'] = df['date'].dt.strftime('%A')"
   ]
  },
  {
   "cell_type": "code",
   "execution_count": 13,
   "metadata": {},
   "outputs": [
    {
     "name": "stdout",
     "output_type": "stream",
     "text": [
      "  day_of_week  ridership\n",
      "6   Wednesday  305593582\n",
      "4    Thursday  302888637\n",
      "5     Tuesday  297248767\n",
      "0      Friday  283701101\n",
      "1      Monday  257292520\n",
      "2    Saturday  189043914\n",
      "3      Sunday  150438140\n"
     ]
    }
   ],
   "source": [
    "df_grouped2 = df.groupby('day_of_week')['ridership'].sum().reset_index().sort_values(by='ridership', ascending=False)\n",
    "print(df_grouped2)"
   ]
  },
  {
   "cell_type": "code",
   "execution_count": null,
   "metadata": {},
   "outputs": [],
   "source": [
    "df.head()"
   ]
  },
  {
   "cell_type": "code",
   "execution_count": 14,
   "metadata": {},
   "outputs": [],
   "source": [
    "df.to_csv('transformed_mta_data.csv', index=False)"
   ]
  }
 ],
 "metadata": {
  "kernelspec": {
   "display_name": "Python 3",
   "language": "python",
   "name": "python3"
  },
  "language_info": {
   "codemirror_mode": {
    "name": "ipython",
    "version": 3
   },
   "file_extension": ".py",
   "mimetype": "text/x-python",
   "name": "python",
   "nbconvert_exporter": "python",
   "pygments_lexer": "ipython3",
   "version": "3.11.2"
  },
  "orig_nbformat": 4
 },
 "nbformat": 4,
 "nbformat_minor": 2
}
